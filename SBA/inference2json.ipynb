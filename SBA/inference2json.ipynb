{
 "cells": [
  {
   "cell_type": "code",
   "execution_count": 11,
   "metadata": {},
   "outputs": [
    {
     "name": "stdout",
     "output_type": "stream",
     "text": [
      "load checkpoint from local path: /home/user/mmdetection/work_dirs/23.04.12_slfa_fasterrcnn_1333x800/epoch_12.pth\n"
     ]
    }
   ],
   "source": [
    "from mmdet.apis import init_detector, inference_detector\n",
    "from mmcls.apis import init_model, inference_model\n",
    "\n",
    "import cv2 \n",
    "import glob\n",
    "import numpy as np\n",
    "import os\n",
    "from tqdm import tqdm\n",
    "\n",
    "config_file_det = \"/home/user/mmdetection/work_dirs/23.04.12_slfa_fasterrcnn_1333x800/final.py\"\n",
    "checkpoint_file_det = \"/home/user/mmdetection/work_dirs/23.04.12_slfa_fasterrcnn_1333x800/epoch_12.pth\"\n",
    "\n",
    "\n",
    "device = \"cuda:0\" # or \"cpu\"\n",
    "model = init_detector(config_file_det, checkpoint_file_det, device)\n",
    "\n",
    "\n",
    "classes =[\"Sleeper\", \"fastener\"]\n",
    "colors = [[0,0,255], [0, 255,0]]\n",
    "\n",
    "\n",
    "filenames = \"/home/user/mmdetection/work_dirs/23.04.12_slfa_fasterrcnn_1333x800/infer_test/src\"\n",
    "filenames = os.path.join(filenames, \"*.png\")\n",
    "filenames = glob.glob(filenames)\n",
    "save_dir = '/home/user/test_fa/infer_mem'\n",
    "\n",
    "crop_save_dir = os.path.join(save_dir, \"crop\")\n",
    "os.makedirs(save_dir, exist_ok =True)\n",
    "os.makedirs(crop_save_dir, exist_ok =True)\n",
    "\n",
    "color_map = dict(zip(classes, colors))\n",
    "\n",
    "def result_with_color(img, result, color_map, img_name):\n",
    "    pred_img = img.copy()\n",
    "    crop_copy = img.copy()\n",
    "    if len(result) > 0:\n",
    "        for i in range(len(result)):\n",
    "            if len(result[i]) > 0:\n",
    "                bboxes = result[i]\n",
    "                for _bbox in bboxes:\n",
    "                    bbox = [int(x) for x in _bbox[:4]] \n",
    "                    color = color_map[classes[i]]\n",
    "                    if _bbox[4] > 0.30:\n",
    "                            \n",
    "                        \n",
    "                        cv2.rectangle(pred_img, (bbox[0], bbox[1]), (bbox[2], bbox[3]), color, 2)\n",
    "                        score = round(float(_bbox[4]), 3) \n",
    "                        text = f\"{classes[i]}: {score}\"\n",
    "                        text_position = (bbox[0], bbox[1]-10)\n",
    "                        font = cv2.FONT_HERSHEY_SIMPLEX\n",
    "                        font_scale = 0.5\n",
    "                        font_color = (255,255,255)\n",
    "                        thickness = 1\n",
    "                        line_type = cv2.LINE_AA\n",
    "                        bottomLeftOrigin = False\n",
    "                        cv2.putText(pred_img, text, text_position, font, font_scale, font_color, thickness, line_type, bottomLeftOrigin)\n",
    "                        # \n",
    "                        if i == 1:\n",
    "                            crop_img = crop_copy[bbox[1]:bbox[3], bbox[0]:bbox[2], :]\n",
    "                            crop_save_img = os.path.join(crop_save_dir, f\"{bbox[0]}_{bbox[1]}_{bbox[2]}_{bbox[3]}_{img_name}\")\n",
    "                            cv2.imwrite(crop_save_img, crop_img)\n",
    "\n",
    "                        \n",
    "\n",
    "    return pred_img\n"
   ]
  },
  {
   "cell_type": "code",
   "execution_count": 12,
   "metadata": {},
   "outputs": [
    {
     "name": "stderr",
     "output_type": "stream",
     "text": [
      "100%|██████████| 11/11 [00:02<00:00,  5.39it/s]\n"
     ]
    }
   ],
   "source": [
    "all_images_data = []\n",
    "\n",
    "for idx, filename in enumerate(tqdm(filenames)):\n",
    "    img = cv2.imread(filename)\n",
    "    result = inference_detector(model, img)\n",
    "    img_name = os.path.basename(filename)\n",
    "    pred_img = show_result_with_color(img, result, color_map)\n",
    "    save_filename = os.path.join(save_dir, img_name)\n",
    "    cv2.imwrite(save_filename, pred_img)\n",
    "    \n",
    "    # Create the JSON data for the current image\n",
    "    image_data = {\n",
    "        'image_number': idx,\n",
    "        'file_name': img_name,\n",
    "        'predictions': []\n",
    "    }\n",
    "    \n",
    "    if len(result) > 0:\n",
    "        for i in range(len(result)):\n",
    "            if len(result[i]) > 0:\n",
    "                bboxes = result[i]\n",
    "                for _bbox in bboxes:\n",
    "                    bbox = [int(x) for x in _bbox[:4]]\n",
    "                    score = round(float(_bbox[4]), 3)\n",
    "                    class_name = classes[i]\n",
    "                    prediction = {\n",
    "                        'class': class_name,\n",
    "                        'bbox': bbox,\n",
    "                        'score': score\n",
    "                    }\n",
    "                    image_data['predictions'].append(prediction)\n",
    "    \n",
    "    all_images_data.append(image_data)\n",
    "\n",
    "# Save the JSON data for all images to a single file\n",
    "json_filename = os.path.join(save_dir, 'member_output.json')\n",
    "with open(json_filename, 'w') as f:\n",
    "    json.dump(all_images_data, f)"
   ]
  }
 ],
 "metadata": {
  "interpreter": {
   "hash": "9483d0f7ee4e6331dd605ab3c005c6c2d85d3953caa1867d2f2f8933026d37f9"
  },
  "kernelspec": {
   "display_name": "Python 3.8.16 ('mm_det')",
   "language": "python",
   "name": "python3"
  },
  "language_info": {
   "codemirror_mode": {
    "name": "ipython",
    "version": 3
   },
   "file_extension": ".py",
   "mimetype": "text/x-python",
   "name": "python",
   "nbconvert_exporter": "python",
   "pygments_lexer": "ipython3",
   "version": "3.8.16"
  },
  "orig_nbformat": 4
 },
 "nbformat": 4,
 "nbformat_minor": 2
}
